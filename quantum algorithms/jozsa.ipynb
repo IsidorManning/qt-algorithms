{
 "cells": [
  {
   "cell_type": "code",
   "execution_count": 1,
   "metadata": {},
   "outputs": [],
   "source": [
    "from qiskit import QuantumCircuit, transpile\n",
    "from qiskit_aer import Aer"
   ]
  },
  {
   "cell_type": "code",
   "execution_count": 34,
   "metadata": {},
   "outputs": [],
   "source": [
    "def is_constant_classic(function):\n",
    "    f_0 = function(0)\n",
    "    f_1 = function(1)\n",
    "\n",
    "    return bool(f_0 and f_1)"
   ]
  },
  {
   "cell_type": "code",
   "execution_count": 35,
   "metadata": {},
   "outputs": [],
   "source": [
    "def example_func(x):\n",
    "    return x"
   ]
  },
  {
   "cell_type": "code",
   "execution_count": 36,
   "metadata": {},
   "outputs": [],
   "source": [
    "backend = Aer.get_backend('qasm_simulator')"
   ]
  },
  {
   "cell_type": "code",
   "execution_count": 37,
   "metadata": {},
   "outputs": [],
   "source": [
    "def is_constant(function):\n",
    "\tqc = QuantumCircuit(2, 1)\n",
    "\n",
    "\tqc.x(1)\n",
    "\tqc.h(0)\n",
    "\tqc.h(1)\n",
    "\tfunction(qc)\n",
    "\tqc.h(0)\n",
    "\tqc.measure(0, 0)\n",
    "\n",
    "\n",
    "\ttranspiled_qc = transpile(qc, backend)\n",
    "\n",
    "\tjob = backend.run(transpiled_qc, shots=1)\n",
    "\tresult = job.result().get_counts()\n",
    "\t\n",
    "\treturn bool(max(result, key=result.get))"
   ]
  },
  {
   "cell_type": "code",
   "execution_count": 38,
   "metadata": {},
   "outputs": [],
   "source": [
    "def example_oracle(qc):\n",
    "    qc.cx(0, 1)"
   ]
  },
  {
   "cell_type": "code",
   "execution_count": 39,
   "metadata": {},
   "outputs": [
    {
     "name": "stdout",
     "output_type": "stream",
     "text": [
      "True\n",
      "False\n"
     ]
    }
   ],
   "source": [
    "print(is_constant(example_oracle))\n",
    "print(is_constant_classic(example_func))"
   ]
  }
 ],
 "metadata": {
  "kernelspec": {
   "display_name": "aiqt",
   "language": "python",
   "name": "python3"
  },
  "language_info": {
   "codemirror_mode": {
    "name": "ipython",
    "version": 3
   },
   "file_extension": ".py",
   "mimetype": "text/x-python",
   "name": "python",
   "nbconvert_exporter": "python",
   "pygments_lexer": "ipython3",
   "version": "3.12.4"
  }
 },
 "nbformat": 4,
 "nbformat_minor": 2
}
