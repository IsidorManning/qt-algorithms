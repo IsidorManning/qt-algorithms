{
 "cells": [
  {
   "cell_type": "code",
   "execution_count": 153,
   "metadata": {},
   "outputs": [],
   "source": [
    "from qiskit import QuantumCircuit, transpile\n",
    "from qiskit_aer import Aer\n",
    "import time \n",
    "import random"
   ]
  },
  {
   "cell_type": "markdown",
   "metadata": {},
   "source": [
    "# Classical Computing"
   ]
  },
  {
   "cell_type": "code",
   "execution_count": 208,
   "metadata": {},
   "outputs": [
    {
     "name": "stdout",
     "output_type": "stream",
     "text": [
      "Bit string in decimal: 397897\n"
     ]
    }
   ],
   "source": [
    "# Define the length of the bit string that the algorithm willfind\n",
    "s_length = 20\n",
    "# Generate a bitstring of length 's_length'\n",
    "s = random.getrandbits(s_length)\n",
    "\n",
    "print('Bit string in decimal:', s)"
   ]
  },
  {
   "cell_type": "code",
   "execution_count": 209,
   "metadata": {},
   "outputs": [],
   "source": [
    "# Defines the classical function that is used in the algorithm.\n",
    "# In this classical setting, we need to call this function 's_length'\n",
    "# number of times since for every call, we can determine one correct position\n",
    "# in the bit string 's'.\n",
    "def classical_function(x):\n",
    "\t# Perform bitwise AND and sum the 1 bits.\n",
    "\t# returns 0 if the number of 1 bits in x & s is even and 1 \n",
    "\t# if the number of 1 bits is odd.\n",
    "\treturn bin(x & s).count('1') % 2"
   ]
  },
  {
   "cell_type": "code",
   "execution_count": 210,
   "metadata": {},
   "outputs": [],
   "source": [
    "def classical_version(length):\n",
    "\ts_prediction = 0 # Initilize it to 0\n",
    "\n",
    "\tfor i in range(length):\n",
    "\t\t# Create a bitstring as an integer with a 1 at the i-th position (1 << i)\n",
    "\t\tbitstring_i = 1 << i\n",
    "\t\t# Query the black box with the integer bitstring and update the prediction.\n",
    "\t\t# Updates 's_prediction' by setting the i-th bit to the result of the query.\n",
    "\t\ts_prediction |= classical_function(bitstring_i) << i\n",
    "\n",
    "\treturn format(s_prediction, f'0{length}b')  # Convert back to a binary string"
   ]
  },
  {
   "cell_type": "markdown",
   "metadata": {},
   "source": [
    "# Quantum Computing"
   ]
  },
  {
   "cell_type": "code",
   "execution_count": 211,
   "metadata": {},
   "outputs": [],
   "source": [
    "backend = Aer.get_backend('qasm_simulator')"
   ]
  },
  {
   "cell_type": "code",
   "execution_count": 212,
   "metadata": {},
   "outputs": [],
   "source": [
    "# Quantum Oracle\n",
    "def oracle(qc, s, num_bits):\n",
    "\t# Apply controlled-X (CNOT) gates for each bit of the hidden string s\n",
    "\tfor i in range(num_bits):\n",
    "\t\tif (s >> i) & 1:  # If the i-th bit of s is 1\n",
    "\t\t\tqc.cx(i, num_bits)  # Apply a CNOT gate"
   ]
  },
  {
   "cell_type": "code",
   "execution_count": 213,
   "metadata": {},
   "outputs": [],
   "source": [
    "def berstein_vazirani(s, num_bits):\n",
    "\t# Create a quantum circuit with (num_bits + 1) qubits and num_bits classical bits\n",
    "\tqc = QuantumCircuit(num_bits + 1, num_bits)\n",
    "\n",
    "\t# Initialize the ancilla qubit (last qubit) in the |1⟩ state, \n",
    "\t# then apply a Hadamard gate to it\n",
    "\t# This puts it in the |-> state: (|0⟩ - |1⟩)/√2\n",
    "\tqc.x(num_bits)  # Apply X gate to flip the state from |0⟩ to |1⟩\n",
    "\tqc.h(range(num_bits + 1))  # Apply Hadamard gates to all qubits \n",
    "\n",
    "\t# Apply the oracle function to encode the secret string s\n",
    "\t# The oracle flips the phase of the ancilla qubit depending \n",
    "\t# on the bitwise dot product of the input qubits and s. Notice that\n",
    "\t# we only need to make one single call to te function.\n",
    "\toracle(qc, s, num_bits)\n",
    "\n",
    "\t# Apply Hadamard gates to the first num_bits qubits\n",
    "\t# This operation effectively transforms the qubits back to \n",
    "\t# the computational basis\n",
    "\t# and allows us to extract the secret string s\n",
    "\tqc.h(range(num_bits))\n",
    "\n",
    "\t# Measure the first num_bits qubits and store the result in \n",
    "\t# the classical bits\n",
    "\t# The outcome will be the binary representation of the secret \n",
    "\t# string s\n",
    "\tqc.measure(range(num_bits), range(num_bits))\n",
    "\n",
    "\t# Run the quantum circuit on a classical simulator (qasm_simulator)\n",
    "\tbackend = Aer.get_backend('qasm_simulator')\n",
    "\ttranspiled_qc = transpile(qc, backend)  # Optimize the circuit for the chosen backend\n",
    "\tjob = backend.run(transpiled_qc, shots=1)  # Execute the circuit once \n",
    "\tresult = job.result().get_counts()  # Get the result in terms of counts \n",
    "\n",
    "\t# Extract and return the result as a binary string\n",
    "\t# Since shots=1, there will be only one result in the dictionary, \n",
    "\t# so we return the only key\n",
    "\treturn next(iter(result))\n"
   ]
  },
  {
   "cell_type": "code",
   "execution_count": 214,
   "metadata": {},
   "outputs": [
    {
     "name": "stdout",
     "output_type": "stream",
     "text": [
      "Hidden bitstring: 01100001001001001001\n"
     ]
    }
   ],
   "source": [
    "print(f\"Hidden bitstring: {format(s, f'0{s_length}b')}\")"
   ]
  },
  {
   "cell_type": "code",
   "execution_count": 215,
   "metadata": {},
   "outputs": [
    {
     "name": "stdout",
     "output_type": "stream",
     "text": [
      "Found bitstring (classical method): 01100001001001001001\n"
     ]
    }
   ],
   "source": [
    "print(f\"Found bitstring (classical method): {classical_version(s_length)}\")"
   ]
  },
  {
   "cell_type": "code",
   "execution_count": 216,
   "metadata": {},
   "outputs": [
    {
     "name": "stdout",
     "output_type": "stream",
     "text": [
      "Found bitstring (quantum method): 01100001001001001001\n"
     ]
    }
   ],
   "source": [
    "# Run the quantum algorithm\n",
    "found_bitstring = berstein_vazirani(s, s_length)\n",
    "print(f\"Found bitstring (quantum method): {found_bitstring}\")"
   ]
  }
 ],
 "metadata": {
  "kernelspec": {
   "display_name": "aiqt",
   "language": "python",
   "name": "python3"
  },
  "language_info": {
   "codemirror_mode": {
    "name": "ipython",
    "version": 3
   },
   "file_extension": ".py",
   "mimetype": "text/x-python",
   "name": "python",
   "nbconvert_exporter": "python",
   "pygments_lexer": "ipython3",
   "version": "3.12.4"
  }
 },
 "nbformat": 4,
 "nbformat_minor": 2
}
