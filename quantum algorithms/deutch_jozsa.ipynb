{
 "cells": [
  {
   "cell_type": "code",
   "execution_count": 155,
   "metadata": {},
   "outputs": [],
   "source": [
    "from qiskit import QuantumCircuit, transpile\n",
    "from qiskit_aer import Aer\n",
    "import time "
   ]
  },
  {
   "cell_type": "markdown",
   "metadata": {},
   "source": [
    "# Classical Computing"
   ]
  },
  {
   "cell_type": "markdown",
   "metadata": {},
   "source": [
    "### Defining The Classical Version of Deutch Jozsa"
   ]
  },
  {
   "cell_type": "code",
   "execution_count": 175,
   "metadata": {},
   "outputs": [],
   "source": [
    "def is_constant_classical(function, n):\n",
    "\tmax_checks = 2 ** (n - 1) + 1\n",
    "\tfirst_value = function(0)\n",
    "\t\n",
    "\tfor i in range(1, max_checks):\n",
    "\t\tif function(i) != first_value:\n",
    "\t\t\treturn False  # The function is balanced\n",
    "\t\n",
    "\treturn True  # The function is constant"
   ]
  },
  {
   "cell_type": "markdown",
   "metadata": {},
   "source": [
    "### Defining The Classical Test Functions: One Constant & One Balanced"
   ]
  },
  {
   "cell_type": "code",
   "execution_count": 176,
   "metadata": {},
   "outputs": [],
   "source": [
    "def constant_example_function(x):\n",
    "\t# A constant function that returns 37 for all inputs\n",
    "\treturn 37  # This is a constant function"
   ]
  },
  {
   "cell_type": "code",
   "execution_count": 177,
   "metadata": {},
   "outputs": [],
   "source": [
    "def balanced_example_function(x):\n",
    "\t# A balanced function that returns 0 for even x, 1 for odd x\n",
    "\treturn x % 2  # This is a balanced function"
   ]
  },
  {
   "cell_type": "markdown",
   "metadata": {},
   "source": [
    "# Quantum Computing"
   ]
  },
  {
   "cell_type": "code",
   "execution_count": 178,
   "metadata": {},
   "outputs": [],
   "source": [
    "backend = Aer.get_backend('qasm_simulator')"
   ]
  },
  {
   "cell_type": "markdown",
   "metadata": {},
   "source": [
    "### Implementing The Deutch Jozsa Algorithm"
   ]
  },
  {
   "cell_type": "code",
   "execution_count": 179,
   "metadata": {},
   "outputs": [],
   "source": [
    "def is_constant(function, num_bits):\n",
    "\tqc = QuantumCircuit(num_bits + 1, num_bits)\n",
    "\n",
    "\tqc.x(num_bits)\n",
    "\tqc.h(range(num_bits + 1))\n",
    "\n",
    "\tqc.h(1)\n",
    "\tfunction(qc, num_bits)\n",
    "\t\n",
    "\tqc.h(range(num_bits + 1))\n",
    "\t\n",
    "\tqc.measure(range(num_bits), range(num_bits))\n",
    "\n",
    "\n",
    "\ttranspiled_qc = transpile(qc, backend)\n",
    "\tjob = backend.run(transpiled_qc, shots=1)\n",
    "\tresult = job.result().get_counts()\n",
    "\t\n",
    "\tprint('The oracle output after 1 call:', next(iter(result)))\n",
    "\t\n",
    "\tanswer = '0' * num_bits in result\n",
    "\treturn (answer, qc)"
   ]
  },
  {
   "cell_type": "markdown",
   "metadata": {},
   "source": [
    "### Defining The Quantum Test Oracles: One Constant & One Balanced"
   ]
  },
  {
   "cell_type": "code",
   "execution_count": 180,
   "metadata": {},
   "outputs": [],
   "source": [
    "def constant_example_oracle(qc, num_bits):\n",
    "\t# Oracle for a constant function f(x) = 0\n",
    "\t# This doesn't change the qubits at all\n",
    "\tpass\n",
    "    \n",
    "def balanced_example_oracle(qc, num_bits):\n",
    "\t# Apply CNOT gates from half of the input qubits to the output qubit\n",
    "\tfor i in range(num_bits // 2):\n",
    "\t\tqc.cx(i, num_bits)\n"
   ]
  },
  {
   "cell_type": "markdown",
   "metadata": {},
   "source": [
    "# Evaluation & Time Comparison"
   ]
  },
  {
   "cell_type": "code",
   "execution_count": 181,
   "metadata": {},
   "outputs": [],
   "source": [
    "num_bits = 25"
   ]
  },
  {
   "cell_type": "markdown",
   "metadata": {},
   "source": [
    "### Case 1: Balanced Oracle compared with Balanced Classical Function"
   ]
  },
  {
   "cell_type": "code",
   "execution_count": 182,
   "metadata": {},
   "outputs": [
    {
     "name": "stdout",
     "output_type": "stream",
     "text": [
      "The oracle output after 1 call: 0000000000000111111111111\n",
      "is constant?: False\n",
      "Time taken: 0.8753776550292969 \n",
      "\n",
      "is constant?: False\n",
      "Time taken: 0.0\n"
     ]
    }
   ],
   "source": [
    "start = time.time()\n",
    "quantum_result_balanced, circuit = is_constant(balanced_example_oracle, num_bits)\n",
    "end = time.time()\n",
    "print('is constant?:', quantum_result_balanced)\n",
    "print('Time taken:', end - start, '\\n')\n",
    "circuit.draw()\n",
    "\n",
    "start = time.time()\n",
    "classical_result_balanced = is_constant_classical(balanced_example_function, num_bits)\n",
    "end = time.time()\n",
    "print('is constant?:', classical_result_balanced)\n",
    "print('Time taken:', end - start)\n"
   ]
  },
  {
   "cell_type": "markdown",
   "metadata": {},
   "source": [
    "### Case 2: Constant Oracle compared with Constant Classical Function"
   ]
  },
  {
   "cell_type": "code",
   "execution_count": 183,
   "metadata": {},
   "outputs": [
    {
     "name": "stdout",
     "output_type": "stream",
     "text": [
      "The oracle output after 1 call: 0000000000000000000000000\n",
      "is constant?: True\n",
      "Time taken: 0.010927677154541016 \n",
      "\n",
      "is constant?: True\n",
      "Time taken: 1.1073691844940186\n"
     ]
    }
   ],
   "source": [
    "start = time.time()\n",
    "quantum_result_constant, circuit = is_constant(constant_example_oracle, num_bits)\n",
    "end = time.time()\n",
    "print('is constant?:', quantum_result_constant)\n",
    "print('Time taken:', end - start, '\\n')\n",
    "circuit.draw()\n",
    "\n",
    "start = time.time()\n",
    "classical_result_constant = is_constant_classical(constant_example_function, num_bits)\n",
    "end = time.time()\n",
    "print('is constant?:', classical_result_constant)\n",
    "print('Time taken:', end - start)"
   ]
  }
 ],
 "metadata": {
  "kernelspec": {
   "display_name": "aiqt",
   "language": "python",
   "name": "python3"
  },
  "language_info": {
   "codemirror_mode": {
    "name": "ipython",
    "version": 3
   },
   "file_extension": ".py",
   "mimetype": "text/x-python",
   "name": "python",
   "nbconvert_exporter": "python",
   "pygments_lexer": "ipython3",
   "version": "3.12.4"
  }
 },
 "nbformat": 4,
 "nbformat_minor": 2
}
